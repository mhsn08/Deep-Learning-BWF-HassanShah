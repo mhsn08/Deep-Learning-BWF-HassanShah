{
 "cells": [
  {
   "cell_type": "code",
   "execution_count": 1,
   "id": "5dbffb79-55aa-4692-b425-9252f79493ad",
   "metadata": {},
   "outputs": [
    {
     "name": "stdout",
     "output_type": "stream",
     "text": [
      "Chicken\n",
      "Salad\n",
      "Curry\n",
      "Soup\n",
      "Beef\n"
     ]
    }
   ],
   "source": [
    "food = (\"Chicken\",\"Salad\",\"Curry\",\"Soup\",\"Beef\")\n",
    "for menu in food:\n",
    "    print(menu)"
   ]
  },
  {
   "cell_type": "code",
   "execution_count": 2,
   "id": "6e9f24fa-7815-4277-9898-7434ad3ee5d5",
   "metadata": {},
   "outputs": [
    {
     "ename": "TypeError",
     "evalue": "'tuple' object does not support item assignment",
     "output_type": "error",
     "traceback": [
      "\u001b[0;31m---------------------------------------------------------------------------\u001b[0m",
      "\u001b[0;31mTypeError\u001b[0m                                 Traceback (most recent call last)",
      "\u001b[0;32m/tmp/ipykernel_4685/2060817351.py\u001b[0m in \u001b[0;36m<module>\u001b[0;34m\u001b[0m\n\u001b[0;32m----> 1\u001b[0;31m \u001b[0mfood\u001b[0m\u001b[0;34m[\u001b[0m\u001b[0;36m0\u001b[0m\u001b[0;34m]\u001b[0m \u001b[0;34m=\u001b[0m \u001b[0;34m\"Turkey\"\u001b[0m\u001b[0;34m\u001b[0m\u001b[0;34m\u001b[0m\u001b[0m\n\u001b[0m",
      "\u001b[0;31mTypeError\u001b[0m: 'tuple' object does not support item assignment"
     ]
    }
   ],
   "source": [
    "food[0] = \"Turkey\""
   ]
  },
  {
   "cell_type": "code",
   "execution_count": 4,
   "id": "a4ea632b-003a-46a5-9cce-03b9c8f04348",
   "metadata": {},
   "outputs": [
    {
     "name": "stdout",
     "output_type": "stream",
     "text": [
      "Turkey\n",
      "Salad\n",
      "Curry\n",
      "Soup\n",
      "Rice\n"
     ]
    }
   ],
   "source": [
    "n_food = (\"Turkey\",\"Salad\",\"Curry\",\"Soup\",\"Rice\")\n",
    "food = n_food\n",
    "for menu in food:\n",
    "    print(menu)"
   ]
  },
  {
   "cell_type": "code",
   "execution_count": 9,
   "id": "461a512e-09a0-4e93-babc-f894339e7447",
   "metadata": {},
   "outputs": [],
   "source": [
    "list_of_guests = [\"Saad\",\n",
    "     \"Rehan\",\n",
    "     \"Farhan\"]"
   ]
  },
  {
   "cell_type": "code",
   "execution_count": 17,
   "id": "bacf545c-9882-4f12-a48b-910ee1b1bc6e",
   "metadata": {},
   "outputs": [
    {
     "name": "stdout",
     "output_type": "stream",
     "text": [
      "Jawad Can't make it\n",
      "Invite Saad\n",
      "Invite Jawad\n",
      "Invite Farhan\n"
     ]
    }
   ],
   "source": [
    "def replace(l,cant,repl):\n",
    "    print(l[cant],\"Can't make it\")\n",
    "    l[cant] = repl\n",
    "\n",
    "replace(list_of_guests,\n",
    "       1,\"Jawad\")\n",
    "\n",
    "for i in list_of_guests:\n",
    "    print(\"Invite\",i)\n"
   ]
  },
  {
   "cell_type": "code",
   "execution_count": null,
   "id": "e9c1a672-b387-4555-9624-b8d671b34a66",
   "metadata": {},
   "outputs": [],
   "source": [
    "food = (\"Chicken\",\n",
    "        \"Salad\",\n",
    "        \"Curry\",\n",
    "        \"Soup\",\n",
    "        \"Beef\")\n",
    "for menu in food:\n",
    "    print(menu)\n",
    "\n",
    "n_food = (\"Turkey\",\n",
    "          \"Salad\",\n",
    "          \"Curry\",\n",
    "          \"Soup\",\n",
    "          \"Rice\")\n",
    "food = n_food\n",
    "for menu in food:\n",
    "    print(menu)\n",
    "\n"
   ]
  }
 ],
 "metadata": {
  "kernelspec": {
   "display_name": "Python 3 (ipykernel)",
   "language": "python",
   "name": "python3"
  },
  "language_info": {
   "codemirror_mode": {
    "name": "ipython",
    "version": 3
   },
   "file_extension": ".py",
   "mimetype": "text/x-python",
   "name": "python",
   "nbconvert_exporter": "python",
   "pygments_lexer": "ipython3",
   "version": "3.9.13"
  }
 },
 "nbformat": 4,
 "nbformat_minor": 5
}
