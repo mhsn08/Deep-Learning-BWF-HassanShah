{
 "cells": [
  {
   "cell_type": "code",
   "execution_count": 1,
   "id": "bc65348d-0755-4e9f-9bd0-a641f411ae55",
   "metadata": {},
   "outputs": [
    {
     "name": "stdout",
     "output_type": "stream",
     "text": [
      "Enter Guests Name, Press 0 to exit\n"
     ]
    },
    {
     "name": "stdin",
     "output_type": "stream",
     "text": [
      "Name:  Saad\n",
      "Name:  Ahmad\n",
      "Name:  0\n"
     ]
    },
    {
     "name": "stdout",
     "output_type": "stream",
     "text": [
      "Done\n"
     ]
    }
   ],
   "source": [
    "try:\n",
    "    with open(\"guest.txt\",\"a\") as f:\n",
    "        print(\"Enter Guests Name, Press 0 to exit\")\n",
    "        while(1):\n",
    "            name = input(\"Name: \")\n",
    "            if(name == '0'):\n",
    "                break\n",
    "            f.write(name)\n",
    "            f.write(\"\\n\")\n",
    "except:\n",
    "    print(\"Failed to Open the file\")\n",
    "finally:\n",
    "    print(\"Done\")"
   ]
  },
  {
   "cell_type": "code",
   "execution_count": 3,
   "id": "66441676-2b80-4a76-bec4-72f9bd1f8f87",
   "metadata": {},
   "outputs": [
    {
     "name": "stdout",
     "output_type": "stream",
     "text": [
      "Saad\n",
      "Ahmad\n",
      "\n",
      "Done\n"
     ]
    }
   ],
   "source": [
    "try:\n",
    "    with open(\"guest.txt\",\"r\") as f:\n",
    "        print(f.read())\n",
    "except:\n",
    "    print(\"File Not Found\")\n",
    "finally:\n",
    "    print(\"Done\")"
   ]
  },
  {
   "cell_type": "code",
   "execution_count": null,
   "id": "62d46296-1e72-4d15-9ae9-098204526a1e",
   "metadata": {},
   "outputs": [],
   "source": []
  }
 ],
 "metadata": {
  "kernelspec": {
   "display_name": "Python 3 (ipykernel)",
   "language": "python",
   "name": "python3"
  },
  "language_info": {
   "codemirror_mode": {
    "name": "ipython",
    "version": 3
   },
   "file_extension": ".py",
   "mimetype": "text/x-python",
   "name": "python",
   "nbconvert_exporter": "python",
   "pygments_lexer": "ipython3",
   "version": "3.9.13"
  }
 },
 "nbformat": 4,
 "nbformat_minor": 5
}
