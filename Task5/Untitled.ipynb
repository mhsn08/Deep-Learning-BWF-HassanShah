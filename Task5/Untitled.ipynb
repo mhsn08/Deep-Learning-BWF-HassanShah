{
 "cells": [
  {
   "cell_type": "code",
   "execution_count": 19,
   "id": "ed273995-e941-4cc4-9486-368cf9b9d7cb",
   "metadata": {},
   "outputs": [
    {
     "name": "stdout",
     "output_type": "stream",
     "text": [
      "Return type: <class 'enumerate'>\n",
      "[(0, 'eat'), (1, 'sleep'), (2, 'repeat')]\n",
      "CPU times: user 110 µs, sys: 25 µs, total: 135 µs\n",
      "Wall time: 124 µs\n"
     ]
    }
   ],
   "source": [
    "%%time\n",
    "l1 = [\"eat\", \"sleep\", \"repeat\"]\n",
    "\n",
    "obj1 = enumerate(l1)\n",
    "\n",
    "print (\"Return type:\", type(obj1))\n",
    "print (list(enumerate(l1)))\n"
   ]
  },
  {
   "cell_type": "code",
   "execution_count": 20,
   "id": "70077c8b-f424-45d8-a067-25f0d9cf801a",
   "metadata": {},
   "outputs": [
    {
     "name": "stdout",
     "output_type": "stream",
     "text": [
      "(0, 'eat')\n",
      "(1, 'sleep')\n",
      "(2, 'repeat')\n",
      "CPU times: user 86 µs, sys: 20 µs, total: 106 µs\n",
      "Wall time: 88.2 µs\n"
     ]
    }
   ],
   "source": [
    "%%time\n",
    "\n",
    "l1 = [\"eat\", \"sleep\", \"repeat\"]\n",
    "\n",
    "for i in enumerate(l1):\n",
    "    print (i)\n"
   ]
  },
  {
   "cell_type": "code",
   "execution_count": 1,
   "id": "d93c2e94-7bc7-45dd-8945-61df03faab30",
   "metadata": {},
   "outputs": [
    {
     "name": "stdout",
     "output_type": "stream",
     "text": [
      "Hello admin,would you like to see a status report?\n",
      "Hello Eric\n",
      "Hello Jon\n",
      "Hello Doe\n",
      "Hello Adam\n"
     ]
    }
   ],
   "source": [
    "l = ['admin','Eric','Jon','Doe','Adam']\n",
    "for i in l:\n",
    "    if i == 'admin':\n",
    "        print('Hello admin,would you like to see a status report?')\n",
    "    else:\n",
    "        print('Hello',i)\n"
   ]
  },
  {
   "cell_type": "code",
   "execution_count": 4,
   "id": "10b142e2-95ca-40ca-89f4-3b1575a10b61",
   "metadata": {},
   "outputs": [],
   "source": [
    "def if_emp(l):\n",
    "    if len(l) == 0:\n",
    "        print(\"We need to find somw users\")\n",
    "    else:\n",
    "        print(\"We do have some users\")"
   ]
  },
  {
   "cell_type": "code",
   "execution_count": 5,
   "id": "be4988b3-99e3-4bcb-948d-0b46fd4b10db",
   "metadata": {},
   "outputs": [
    {
     "name": "stdout",
     "output_type": "stream",
     "text": [
      "We do have some users\n"
     ]
    }
   ],
   "source": [
    "if_emp(l)"
   ]
  },
  {
   "cell_type": "code",
   "execution_count": 9,
   "id": "39d6fc31-a411-45d3-b0c3-6e276049eeb9",
   "metadata": {},
   "outputs": [
    {
     "name": "stdout",
     "output_type": "stream",
     "text": [
      "Eric is not not available\n",
      "Magnus is available\n",
      "Jon is not not available\n",
      "Wick is available\n",
      "Karl is available\n"
     ]
    }
   ],
   "source": [
    "current_users = ['admin','Eric','Jon','Doe','Adam']\n",
    "new_users = ['Eric','Magnus','Jon','Wick','Karl']\n",
    "check_l = []\n",
    "for i in current_users:\n",
    "    check_l.append(i.lower())\n",
    "for i in new_users:\n",
    "    if(i.lower() not in check_l):\n",
    "        print(i,\"is available\")\n",
    "    else:\n",
    "        print(i,\"is not not available\")"
   ]
  },
  {
   "cell_type": "code",
   "execution_count": 25,
   "id": "aa078d71-c47b-419e-a8e4-4c7b801bd125",
   "metadata": {},
   "outputs": [
    {
     "name": "stdout",
     "output_type": "stream",
     "text": [
      "Set1: {'cherry', 'apple', 'banana'}\n",
      "Set2: {'apple', 'mangoe', 'strawberry'}\n",
      "Union {'cherry', 'banana', 'mangoe', 'strawberry', 'apple'}\n",
      "Intersection: {'apple'}\n",
      "Set1 - Set2 {'cherry', 'banana'}\n",
      "Set2 - Set1 {'mangoe', 'strawberry'}\n",
      "Symmetric Difference {'cherry', 'mangoe', 'banana', 'strawberry'}\n",
      "\n",
      "__________\n",
      "\n",
      "CPU times: user 313 µs, sys: 79 µs, total: 392 µs\n",
      "Wall time: 368 µs\n"
     ]
    }
   ],
   "source": [
    "%%time\n",
    "set1 = {\"apple\", \"banana\", \"cherry\"}\n",
    "set2 = {\"apple\", \"strawberry\", \"mangoe\"}\n",
    "print(\"Set1:\",set1)\n",
    "print(\"Set2:\",set2)\n",
    "print(\"Union\",set1.union(set2))\n",
    "print(\"Intersection:\",set1.intersection(set2))\n",
    "print(\"Set1 - Set2\",set1.difference(set2))\n",
    "print(\"Set2 - Set1\",set2.difference(set1))\n",
    "print(\"Symmetric Difference\",set1^set2)\n",
    "\n",
    "print()\n",
    "print(\"_\"*10)\n",
    "print()"
   ]
  },
  {
   "cell_type": "code",
   "execution_count": 24,
   "id": "de86fd9b-5780-4388-981e-5c1cc65178fa",
   "metadata": {},
   "outputs": [
    {
     "name": "stdout",
     "output_type": "stream",
     "text": [
      "List: [1, 2, 3, 2, 4, 1, 5, 3]\n",
      "Set: {1, 2, 3, 4, 5}\n",
      "\n",
      "__________\n",
      "\n",
      "CPU times: user 223 µs, sys: 10 µs, total: 233 µs\n",
      "Wall time: 224 µs\n"
     ]
    }
   ],
   "source": [
    "%%time\n",
    "l = [1, 2, 3, 2, 4, 1, 5, 3]\n",
    "set1 = set(l)\n",
    "print(\"List:\",l)\n",
    "print(\"Set:\",set1)\n",
    "\n",
    "print()\n",
    "print(\"_\"*10)\n",
    "print()"
   ]
  },
  {
   "cell_type": "code",
   "execution_count": 40,
   "id": "acd4788a-edb0-4d0d-ae55-daa845555d65",
   "metadata": {},
   "outputs": [
    {
     "name": "stdout",
     "output_type": "stream",
     "text": [
      "CPU times: user 18 µs, sys: 0 ns, total: 18 µs\n",
      "Wall time: 28.6 µs\n"
     ]
    }
   ],
   "source": [
    "%%time\n",
    "set1 = {1, 2, 3, 4, 5}"
   ]
  },
  {
   "cell_type": "code",
   "execution_count": 41,
   "id": "c637f880-9bf2-4292-ab08-ecb73e671fec",
   "metadata": {},
   "outputs": [
    {
     "name": "stdout",
     "output_type": "stream",
     "text": [
      "CPU times: user 7 µs, sys: 2 µs, total: 9 µs\n",
      "Wall time: 12.4 µs\n"
     ]
    }
   ],
   "source": [
    "%%time\n",
    "l = [1, 2, 3, 2, 4, 1, 5, 3]\n",
    "set1 = set(l)"
   ]
  },
  {
   "cell_type": "code",
   "execution_count": null,
   "id": "6d03e4c7-a1b6-41dd-a143-64e72bfa238f",
   "metadata": {},
   "outputs": [],
   "source": []
  }
 ],
 "metadata": {
  "kernelspec": {
   "display_name": "Python 3 (ipykernel)",
   "language": "python",
   "name": "python3"
  },
  "language_info": {
   "codemirror_mode": {
    "name": "ipython",
    "version": 3
   },
   "file_extension": ".py",
   "mimetype": "text/x-python",
   "name": "python",
   "nbconvert_exporter": "python",
   "pygments_lexer": "ipython3",
   "version": "3.9.13"
  }
 },
 "nbformat": 4,
 "nbformat_minor": 5
}
