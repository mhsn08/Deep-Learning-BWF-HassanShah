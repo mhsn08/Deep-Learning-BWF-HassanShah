{
 "cells": [
  {
   "cell_type": "code",
   "execution_count": null,
   "id": "94a869b3-bfbb-42d8-b05b-5d992609a2b3",
   "metadata": {},
   "outputs": [],
   "source": [
    "class resturant:\n",
    "    def __init__(self,name,cuisine):\n",
    "        self.name = name\n",
    "        self.cuisine = cuisine\n",
    "    \n",
    "    def desc_rest(self):\n",
    "        print(f\"Resturant Name: {self.name}\\nCuisine Type: {self.cuisine}\")\n",
    "        \n",
    "    "
   ]
  }
 ],
 "metadata": {
  "kernelspec": {
   "display_name": "Python 3 (ipykernel)",
   "language": "python",
   "name": "python3"
  },
  "language_info": {
   "codemirror_mode": {
    "name": "ipython",
    "version": 3
   },
   "file_extension": ".py",
   "mimetype": "text/x-python",
   "name": "python",
   "nbconvert_exporter": "python",
   "pygments_lexer": "ipython3",
   "version": "3.9.13"
  }
 },
 "nbformat": 4,
 "nbformat_minor": 5
}
