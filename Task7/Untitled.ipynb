{
 "cells": [
  {
   "cell_type": "code",
   "execution_count": 1,
   "id": "18b4ea04-358c-469a-b51b-dce9740794de",
   "metadata": {},
   "outputs": [
    {
     "name": "stdout",
     "output_type": "stream",
     "text": [
      "Help on function calculate_sum in module __main__:\n",
      "\n",
      "calculate_sum(a, b)\n",
      "    Calculates the sum of two numbers.\n",
      "\n"
     ]
    }
   ],
   "source": [
    "def calculate_sum(a, b):\n",
    "    \"\"\"Calculates the sum of two numbers.\"\"\"\n",
    "    return a + b\n",
    "\n",
    "help(calculate_sum)"
   ]
  },
  {
   "cell_type": "code",
   "execution_count": 2,
   "id": "bba76490-0a90-4683-ba51-6d5e420a249d",
   "metadata": {},
   "outputs": [
    {
     "data": {
      "text/plain": [
       "19"
      ]
     },
     "execution_count": 2,
     "metadata": {},
     "output_type": "execute_result"
    }
   ],
   "source": [
    "calculate_sum(10,9)"
   ]
  },
  {
   "cell_type": "code",
   "execution_count": 3,
   "id": "00aa9648-7d08-4a4a-914c-f65347510047",
   "metadata": {},
   "outputs": [
    {
     "name": "stdout",
     "output_type": "stream",
     "text": [
      "5\n"
     ]
    },
    {
     "data": {
      "text/plain": [
       "int"
      ]
     },
     "execution_count": 3,
     "metadata": {},
     "output_type": "execute_result"
    }
   ],
   "source": [
    "a = calculate_sum(2,3)\n",
    "print(a)\n",
    "type(a)"
   ]
  },
  {
   "cell_type": "code",
   "execution_count": 7,
   "id": "5f68ebec-02be-41c0-b2dd-9b472ac1fd4f",
   "metadata": {},
   "outputs": [],
   "source": [
    "def calculate_sum(*nums):\n",
    "    \"\"\"Calculates the sum of any numbers passed to it.\"\"\"\n",
    "    s = 0\n",
    "    for i in nums:\n",
    "        s = s + i\n",
    "    return s"
   ]
  },
  {
   "cell_type": "code",
   "execution_count": 8,
   "id": "7d3bbcdc-36ff-4c6d-8d63-7e115acf7894",
   "metadata": {},
   "outputs": [
    {
     "name": "stdout",
     "output_type": "stream",
     "text": [
      "Help on function calculate_sum in module __main__:\n",
      "\n",
      "calculate_sum(*nums)\n",
      "    Calculates the sum of any numbers passed to it.\n",
      "\n"
     ]
    }
   ],
   "source": [
    "help(calculate_sum)"
   ]
  },
  {
   "cell_type": "code",
   "execution_count": 9,
   "id": "1a5f6dd2-fd0c-4eac-8e9c-efaccfe7fb1a",
   "metadata": {},
   "outputs": [
    {
     "data": {
      "text/plain": [
       "21"
      ]
     },
     "execution_count": 9,
     "metadata": {},
     "output_type": "execute_result"
    }
   ],
   "source": [
    "calculate_sum(1,2,3,4,5,6)"
   ]
  },
  {
   "cell_type": "code",
   "execution_count": null,
   "id": "0983abeb-592f-46e2-af1e-d534865a597f",
   "metadata": {},
   "outputs": [],
   "source": []
  }
 ],
 "metadata": {
  "kernelspec": {
   "display_name": "Python 3 (ipykernel)",
   "language": "python",
   "name": "python3"
  },
  "language_info": {
   "codemirror_mode": {
    "name": "ipython",
    "version": 3
   },
   "file_extension": ".py",
   "mimetype": "text/x-python",
   "name": "python",
   "nbconvert_exporter": "python",
   "pygments_lexer": "ipython3",
   "version": "3.9.13"
  }
 },
 "nbformat": 4,
 "nbformat_minor": 5
}
