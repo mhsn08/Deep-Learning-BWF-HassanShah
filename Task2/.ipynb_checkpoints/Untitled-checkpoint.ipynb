{
 "cells": [
  {
   "cell_type": "code",
   "execution_count": 6,
   "id": "d291285b-a2d2-4ab8-b8f4-ef80dd79d246",
   "metadata": {},
   "outputs": [
    {
     "name": "stdout",
     "output_type": "stream",
     "text": [
      "Changing,Adding,Removing\n",
      "Rehan Can't make it\n",
      "Invite Saad\n",
      "Invite Jawad\n",
      "Invite Farhan\n",
      "Sorry Amir\n",
      "Sorry Farhan\n",
      "Sorry Jawad\n",
      "Sorry Saad\n",
      "[]\n"
     ]
    }
   ],
   "source": [
    "print(\"Changing,Adding,Removing\")\n",
    "\n",
    "l = [\"Saad\",\"Rehan\",\"Farhan\"]\n",
    "print(l[1],\"Can't make it\")\n",
    "l[1] = \"Jawad\"\n",
    "\n",
    "for i in l:\n",
    "    print(\"Invite\",i)\n",
    "\n",
    "l.insert(0,\"Ahmad\")\n",
    "l.insert(1,\"Ammar\")\n",
    "l.append(\"Amir\")\n",
    "\n",
    "while(len(l)>2):\n",
    "    print(\"Sorry\",l.pop())\n",
    "\n",
    "del(l[0])\n",
    "del(l[0])\n",
    "print(l)"
   ]
  },
  {
   "cell_type": "code",
   "execution_count": 2,
   "id": "1bf26e56-f6cf-4ca6-805d-a4d4c38a5ffe",
   "metadata": {},
   "outputs": [
    {
     "data": {
      "text/plain": [
       "'Amir'"
      ]
     },
     "execution_count": 2,
     "metadata": {},
     "output_type": "execute_result"
    }
   ],
   "source": [
    "l.pop()"
   ]
  },
  {
   "cell_type": "code",
   "execution_count": 5,
   "id": "7bf7a810-b387-4681-b00b-5214323b48f0",
   "metadata": {},
   "outputs": [
    {
     "data": {
      "text/plain": [
       "['Saad', 'Jawad', 'Farhan']"
      ]
     },
     "execution_count": 5,
     "metadata": {},
     "output_type": "execute_result"
    }
   ],
   "source": [
    "del(l[0])\n",
    "l"
   ]
  },
  {
   "cell_type": "code",
   "execution_count": 4,
   "id": "e0c8dcbc-e3b5-426a-b891-2598b15b0bd2",
   "metadata": {},
   "outputs": [
    {
     "data": {
      "text/plain": [
       "['Ammar', 'Saad', 'Jawad', 'Farhan']"
      ]
     },
     "execution_count": 4,
     "metadata": {},
     "output_type": "execute_result"
    }
   ],
   "source": [
    "l"
   ]
  },
  {
   "cell_type": "code",
   "execution_count": 10,
   "id": "e3378780-5f57-4db6-aa41-280221ddc7d5",
   "metadata": {},
   "outputs": [
    {
     "name": "stdout",
     "output_type": "stream",
     "text": [
      "Madina\n",
      "Mecca\n",
      "Barcelona\n",
      "Calafornia\n",
      "Doha\n",
      "Barcelona\n",
      "Calafornia\n",
      "Doha\n",
      "Madina\n",
      "Mecca\n",
      "Mecca\n",
      "Madina\n",
      "Doha\n",
      "Calafornia\n",
      "Barcelona\n"
     ]
    }
   ],
   "source": [
    "\n",
    "locations = [\"Madina\",\"Mecca\",\"Barcelona\",\"Calafornia\",\"Doha\"]\n",
    "for i in locations:\n",
    "    print(i)\n",
    "\n",
    "locations.sort()\n",
    "for i in locations:\n",
    "    print(i)\n",
    "\n",
    "for i in range(len(locations)-1,-1,-1):\n",
    "    print(locations[i])"
   ]
  },
  {
   "cell_type": "code",
   "execution_count": null,
   "id": "a95b1aec-a0ed-4c1b-8551-b68f9d187d6b",
   "metadata": {},
   "outputs": [],
   "source": []
  }
 ],
 "metadata": {
  "kernelspec": {
   "display_name": "Python 3 (ipykernel)",
   "language": "python",
   "name": "python3"
  },
  "language_info": {
   "codemirror_mode": {
    "name": "ipython",
    "version": 3
   },
   "file_extension": ".py",
   "mimetype": "text/x-python",
   "name": "python",
   "nbconvert_exporter": "python",
   "pygments_lexer": "ipython3",
   "version": "3.9.13"
  }
 },
 "nbformat": 4,
 "nbformat_minor": 5
}
