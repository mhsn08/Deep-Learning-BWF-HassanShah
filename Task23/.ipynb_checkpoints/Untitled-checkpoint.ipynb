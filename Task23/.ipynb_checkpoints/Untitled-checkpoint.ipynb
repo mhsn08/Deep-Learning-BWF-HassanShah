{
 "cells": [
  {
   "cell_type": "code",
   "execution_count": 2,
   "id": "28794241-d07a-4b99-8335-3769105ff08a",
   "metadata": {},
   "outputs": [],
   "source": [
    "from sklearn.datasets import load_iris\n",
    "from sklearn.model_selection import train_test_split"
   ]
  },
  {
   "cell_type": "code",
   "execution_count": 3,
   "id": "e80611cf-1abf-42b3-a122-cc9c760993bf",
   "metadata": {},
   "outputs": [],
   "source": [
    "iris = load_iris()"
   ]
  },
  {
   "cell_type": "code",
   "execution_count": 4,
   "id": "6027da29-f014-4c23-bafe-24b934fd43f0",
   "metadata": {},
   "outputs": [],
   "source": [
    "X_train, X_test, y_train, y_test = train_test_split(iris.data, iris.target, test_size=0.2, random_state=42)"
   ]
  },
  {
   "cell_type": "code",
   "execution_count": 6,
   "id": "da066495-028c-47cd-95b3-b3338ec7507b",
   "metadata": {},
   "outputs": [],
   "source": [
    "X_train, X_val, y_train, y_val = train_test_split(X_train, y_train, test_size=0.2, random_state=42)"
   ]
  },
  {
   "cell_type": "code",
   "execution_count": 7,
   "id": "f84ed82f-bd6d-4c73-862c-3627cf8a61fb",
   "metadata": {},
   "outputs": [
    {
     "name": "stdout",
     "output_type": "stream",
     "text": [
      "Number of training samples: 96\n",
      "Number of validation samples: 24\n",
      "Number of test samples: 30\n",
      "Number of features: 4\n",
      "Number of classes: 3\n"
     ]
    }
   ],
   "source": [
    "print(\"Number of training samples:\", len(X_train))\n",
    "print(\"Number of validation samples:\", len(X_val))\n",
    "print(\"Number of test samples:\", len(X_test))\n",
    "print(\"Number of features:\", iris.data.shape[1])\n",
    "print(\"Number of classes:\", len(iris.target_names))"
   ]
  },
  {
   "cell_type": "code",
   "execution_count": 8,
   "id": "27ea21cd-1df3-4688-a157-48b852b9841f",
   "metadata": {},
   "outputs": [],
   "source": [
    "# Data is devided into testing and training set, Training is used to train model, test is used to test accuracy and \n",
    "# precision etc"
   ]
  },
  {
   "cell_type": "code",
   "execution_count": null,
   "id": "be26fd23-1e16-4499-a939-a814d7cdc261",
   "metadata": {},
   "outputs": [],
   "source": []
  }
 ],
 "metadata": {
  "kernelspec": {
   "display_name": "Python 3 (ipykernel)",
   "language": "python",
   "name": "python3"
  },
  "language_info": {
   "codemirror_mode": {
    "name": "ipython",
    "version": 3
   },
   "file_extension": ".py",
   "mimetype": "text/x-python",
   "name": "python",
   "nbconvert_exporter": "python",
   "pygments_lexer": "ipython3",
   "version": "3.9.13"
  }
 },
 "nbformat": 4,
 "nbformat_minor": 5
}
