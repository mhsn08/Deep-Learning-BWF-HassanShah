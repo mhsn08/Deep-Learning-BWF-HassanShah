{
 "cells": [
  {
   "cell_type": "code",
   "execution_count": 3,
   "id": "e2341363-b3a7-483f-8dd2-97b54d2e465b",
   "metadata": {},
   "outputs": [
    {
     "name": "stdout",
     "output_type": "stream",
     "text": [
      "1: ['Jon', 'Doe', 'Paris']\n",
      "2: ['Lionel', 'Messi', 'Argentina']\n",
      "3: ['Eden', 'Hazard', 'Belgium']\n"
     ]
    }
   ],
   "source": [
    "dict1 = {1:['Jon','Doe','Paris'],\n",
    "         2:['Lionel','Messi','Argentina'],\n",
    "         3:['Eden','Hazard','Belgium']}\n",
    "\n",
    "for key in dict1:\n",
    "    print(f\"{key}: {dict1[key]}\")"
   ]
  },
  {
   "cell_type": "code",
   "execution_count": 4,
   "id": "e0755fbc-7621-49fc-9548-2da3b5d442db",
   "metadata": {},
   "outputs": [
    {
     "name": "stdout",
     "output_type": "stream",
     "text": [
      "1: ['Jon', 'Doe', 'Paris']\n",
      "2: ['Lionel', 'Messi', 'Argentina']\n",
      "3: ['Eden', 'Hazard', 'Belgium']\n",
      "4: ['Osmane', 'Dembele', 'France']\n"
     ]
    }
   ],
   "source": [
    "dict1[4] = [\"Osmane\",\"Dembele\",\"France\"]\n",
    "for key in dict1:\n",
    "    print(f\"{key}: {dict1[key]}\")"
   ]
  },
  {
   "cell_type": "code",
   "execution_count": 5,
   "id": "a3020c7a-7a7b-4929-8814-1f7e730e221e",
   "metadata": {},
   "outputs": [
    {
     "name": "stdout",
     "output_type": "stream",
     "text": [
      "2: ['Lionel', 'Messi', 'Argentina']\n",
      "3: ['Eden', 'Hazard', 'Belgium']\n",
      "4: ['Osmane', 'Dembele', 'France']\n"
     ]
    }
   ],
   "source": [
    "del(dict1[1])\n",
    "for key in dict1:\n",
    "    print(f\"{key}: {dict1[key]}\")"
   ]
  },
  {
   "cell_type": "code",
   "execution_count": 7,
   "id": "e05f27fb-29b2-4ec5-b682-14e2bc99bdab",
   "metadata": {},
   "outputs": [
    {
     "name": "stdout",
     "output_type": "stream",
     "text": [
      "2: ['Lionel', 'Messi', 'Argentina']\n",
      "3: ['Eden', 'Hazard', 'Belgium']\n",
      "4: ['Osmane', 'Dembele', 'Barcelona']\n"
     ]
    }
   ],
   "source": [
    "dict1[4] = [\"Osmane\",\"Dembele\",\"Barcelona\"]\n",
    "for key in dict1:\n",
    "    print(f\"{key}: {dict1[key]}\")"
   ]
  },
  {
   "cell_type": "code",
   "execution_count": null,
   "id": "a751be2b-db4e-49f8-9da8-7f066a13c1c9",
   "metadata": {},
   "outputs": [],
   "source": []
  }
 ],
 "metadata": {
  "kernelspec": {
   "display_name": "Python 3 (ipykernel)",
   "language": "python",
   "name": "python3"
  },
  "language_info": {
   "codemirror_mode": {
    "name": "ipython",
    "version": 3
   },
   "file_extension": ".py",
   "mimetype": "text/x-python",
   "name": "python",
   "nbconvert_exporter": "python",
   "pygments_lexer": "ipython3",
   "version": "3.9.13"
  }
 },
 "nbformat": 4,
 "nbformat_minor": 5
}
